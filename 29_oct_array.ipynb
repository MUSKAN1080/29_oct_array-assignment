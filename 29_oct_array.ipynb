{
 "cells": [
  {
   "cell_type": "code",
   "execution_count": null,
   "metadata": {},
   "outputs": [
    {
     "name": "stdout",
     "output_type": "stream",
     "text": [
      "True\n"
     ]
    }
   ],
   "source": [
    "#1. Given an array, check if it contains any duplicates or not.\n",
    "#   arr = [1, 2, 4, 2, 5, 9]\n",
    "#   Output = True\n",
    "\n",
    "def contains_duplicates(arr):\n",
    "    seen = set()\n",
    "    for element in arr:\n",
    "        if element in seen:\n",
    "            return True\n",
    "        seen.add(element)\n",
    "    return False\n",
    "\n",
    "# Test the function\n",
    "arr = [1, 2, 4, 2, 5, 9]\n",
    "output = contains_duplicates(arr)\n",
    "print(output)  # Output: True"
   ]
  },
  {
   "cell_type": "code",
   "execution_count": null,
   "metadata": {},
   "outputs": [
    {
     "name": "stdout",
     "output_type": "stream",
     "text": [
      "[5, 6, 7, 1, 2, 3, 4]\n"
     ]
    }
   ],
   "source": [
    "#2. Given an array and an integer k, rotate the array to the right by k steps.\n",
    "#   arr = [1, 2, 3, 4, 5, 6, 7] k = 3\n",
    "#   Output = [5, 6, 7, 1, 2, 3, 4]\n",
    "\n",
    "def rotate_array(arr, k):\n",
    "    n = len(arr)\n",
    "    k = k % n  # In case k is larger than the array size\n",
    "    return arr[-k:] + arr[:-k]\n",
    "\n",
    "# Test the function\n",
    "arr = [1, 2, 3, 4, 5, 6, 7]\n",
    "k = 3\n",
    "output = rotate_array(arr, k)\n",
    "print(output)  # Output: [5, 6, 7, 1, 2, 3, 4]\n"
   ]
  },
  {
   "cell_type": "code",
   "execution_count": null,
   "metadata": {},
   "outputs": [
    {
     "name": "stdout",
     "output_type": "stream",
     "text": [
      "[12, 9, 7, 5, 4, 2]\n"
     ]
    }
   ],
   "source": [
    "#3. Reverse the given array in-place, means without using any extra data structure.\n",
    "#   arr = [2, 4, 5, 7, 9, 12]\n",
    "#   Output = [12, 9, 7, 5, 4, 2]\n",
    "\n",
    "def reverse_array(arr):\n",
    "    left = 0\n",
    "    right = len(arr) - 1\n",
    "    while left < right:\n",
    "        # Swap the elements\n",
    "        arr[left], arr[right] = arr[right], arr[left]\n",
    "        # Move the pointers\n",
    "        left += 1\n",
    "        right -= 1\n",
    "\n",
    "# Test the function\n",
    "arr = [2, 4, 5, 7, 9, 12]\n",
    "reverse_array(arr)\n",
    "print(arr)  # Output: [12, 9, 7, 5, 4, 2]\n"
   ]
  },
  {
   "cell_type": "code",
   "execution_count": null,
   "metadata": {},
   "outputs": [
    {
     "name": "stdout",
     "output_type": "stream",
     "text": [
      "20\n"
     ]
    }
   ],
   "source": [
    "#4. Given an array of integers, find the maximum element in an array\n",
    "#   arr = [10, 5, 20, 8, 15]\n",
    "#   Output = 20\n",
    "\n",
    "def find_maximum(arr):\n",
    "    # Assume the first element is the maximum initially\n",
    "    max_element = arr[0]\n",
    "    # Iterate through the array\n",
    "    for element in arr:\n",
    "        # Update max_element if a larger element is found\n",
    "        if element > max_element:\n",
    "            max_element = element\n",
    "    return max_element\n",
    "\n",
    "# Test the function\n",
    "arr = [10, 5, 20, 8, 15]\n",
    "output = find_maximum(arr)\n",
    "print(output)  # Output: 20\n"
   ]
  },
  {
   "cell_type": "code",
   "execution_count": null,
   "metadata": {},
   "outputs": [
    {
     "name": "stdout",
     "output_type": "stream",
     "text": [
      "[1, 2, 3, 4, 5]\n"
     ]
    }
   ],
   "source": [
    "#5.  a sorted array, remove the duplicate element without using any extra data structure.\n",
    "#   arr = [1, 1, 2Given, 2, 2, 3, 3, 4, 4, 4, 5, 5]\n",
    "#   Output = [1, 2, 3, 4, 5]\n",
    "\n",
    "def remove_duplicates(arr):\n",
    "    if not arr:\n",
    "        return 0\n",
    "\n",
    "    # Pointer for the place to insert the next unique element\n",
    "    insert_pos = 1\n",
    "\n",
    "    # Iterate through the array starting from the second element\n",
    "    for i in range(1, len(arr)):\n",
    "        # If the current element is different from the previous element, it's unique\n",
    "        if arr[i] != arr[i - 1]:\n",
    "            arr[insert_pos] = arr[i]\n",
    "            insert_pos += 1\n",
    "\n",
    "    # Slice the array to contain only the unique elements\n",
    "    return arr[:insert_pos]\n",
    "\n",
    "# Test the function\n",
    "arr = [1, 1, 2, 2, 2, 3, 3, 4, 4, 4, 5, 5]\n",
    "output = remove_duplicates(arr)\n",
    "print(output)  # Output: [1, 2, 3, 4, 5]\n"
   ]
  }
 ],
 "metadata": {
  "kernelspec": {
   "display_name": "Python 3",
   "language": "python",
   "name": "python3"
  },
  "language_info": {
   "codemirror_mode": {
    "name": "ipython",
    "version": 3
   },
   "file_extension": ".py",
   "mimetype": "text/x-python",
   "name": "python",
   "nbconvert_exporter": "python",
   "pygments_lexer": "ipython3",
   "version": "3.11.5"
  }
 },
 "nbformat": 4,
 "nbformat_minor": 2
}
